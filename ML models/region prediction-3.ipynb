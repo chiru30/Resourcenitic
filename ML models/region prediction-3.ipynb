{
 "cells": [
  {
   "cell_type": "code",
   "execution_count": 1,
   "metadata": {},
   "outputs": [],
   "source": [
    "import numpy as np\n",
    "import pandas as pd\n",
    "\n",
    "from sklearn.preprocessing import LabelEncoder, StandardScaler\n",
    "from sklearn.model_selection import train_test_split\n",
    "\n",
    "from sklearn.linear_model import LogisticRegression\n",
    "from sklearn.svm import SVC\n",
    "from sklearn.neural_network import MLPClassifier\n",
    "from sklearn.tree import DecisionTreeClassifier\n",
    "from sklearn.ensemble import AdaBoostClassifier, BaggingClassifier, GradientBoostingClassifier, RandomForestClassifier"
   ]
  },
  {
   "cell_type": "code",
   "execution_count": 2,
   "metadata": {},
   "outputs": [
    {
     "data": {
      "text/html": [
       "<div>\n",
       "<style scoped>\n",
       "    .dataframe tbody tr th:only-of-type {\n",
       "        vertical-align: middle;\n",
       "    }\n",
       "\n",
       "    .dataframe tbody tr th {\n",
       "        vertical-align: top;\n",
       "    }\n",
       "\n",
       "    .dataframe thead th {\n",
       "        text-align: right;\n",
       "    }\n",
       "</style>\n",
       "<table border=\"1\" class=\"dataframe\">\n",
       "  <thead>\n",
       "    <tr style=\"text-align: right;\">\n",
       "      <th></th>\n",
       "      <th>index</th>\n",
       "      <th>Date</th>\n",
       "      <th>Region</th>\n",
       "      <th>Thermal Generation Actual (in MU)</th>\n",
       "      <th>Thermal Generation Estimated (in MU)</th>\n",
       "      <th>Nuclear Generation Actual (in MU)</th>\n",
       "      <th>Nuclear Generation Estimated (in MU)</th>\n",
       "      <th>Hydro Generation Actual (in MU)</th>\n",
       "      <th>Hydro Generation Estimated (in MU)</th>\n",
       "    </tr>\n",
       "  </thead>\n",
       "  <tbody>\n",
       "    <tr>\n",
       "      <th>0</th>\n",
       "      <td>0</td>\n",
       "      <td>2017-09-01</td>\n",
       "      <td>Northern</td>\n",
       "      <td>624.23</td>\n",
       "      <td>484.21</td>\n",
       "      <td>30.36</td>\n",
       "      <td>35.57</td>\n",
       "      <td>273.27</td>\n",
       "      <td>320.81</td>\n",
       "    </tr>\n",
       "    <tr>\n",
       "      <th>1</th>\n",
       "      <td>1</td>\n",
       "      <td>2017-09-01</td>\n",
       "      <td>Western</td>\n",
       "      <td>1,106.89</td>\n",
       "      <td>1,024.33</td>\n",
       "      <td>25.17</td>\n",
       "      <td>3.81</td>\n",
       "      <td>72.00</td>\n",
       "      <td>21.53</td>\n",
       "    </tr>\n",
       "    <tr>\n",
       "      <th>2</th>\n",
       "      <td>2</td>\n",
       "      <td>2017-09-01</td>\n",
       "      <td>Southern</td>\n",
       "      <td>576.66</td>\n",
       "      <td>578.55</td>\n",
       "      <td>62.73</td>\n",
       "      <td>49.80</td>\n",
       "      <td>111.57</td>\n",
       "      <td>64.78</td>\n",
       "    </tr>\n",
       "    <tr>\n",
       "      <th>3</th>\n",
       "      <td>3</td>\n",
       "      <td>2017-09-01</td>\n",
       "      <td>Eastern</td>\n",
       "      <td>441.02</td>\n",
       "      <td>429.39</td>\n",
       "      <td>NaN</td>\n",
       "      <td>NaN</td>\n",
       "      <td>85.94</td>\n",
       "      <td>69.36</td>\n",
       "    </tr>\n",
       "    <tr>\n",
       "      <th>4</th>\n",
       "      <td>4</td>\n",
       "      <td>2017-09-01</td>\n",
       "      <td>NorthEastern</td>\n",
       "      <td>29.11</td>\n",
       "      <td>15.91</td>\n",
       "      <td>NaN</td>\n",
       "      <td>NaN</td>\n",
       "      <td>24.64</td>\n",
       "      <td>21.21</td>\n",
       "    </tr>\n",
       "    <tr>\n",
       "      <th>...</th>\n",
       "      <td>...</td>\n",
       "      <td>...</td>\n",
       "      <td>...</td>\n",
       "      <td>...</td>\n",
       "      <td>...</td>\n",
       "      <td>...</td>\n",
       "      <td>...</td>\n",
       "      <td>...</td>\n",
       "      <td>...</td>\n",
       "    </tr>\n",
       "    <tr>\n",
       "      <th>4940</th>\n",
       "      <td>305</td>\n",
       "      <td>2020-08-01</td>\n",
       "      <td>Northern</td>\n",
       "      <td>669.47</td>\n",
       "      <td>602.96</td>\n",
       "      <td>26.88</td>\n",
       "      <td>23.41</td>\n",
       "      <td>348.72</td>\n",
       "      <td>351.98</td>\n",
       "    </tr>\n",
       "    <tr>\n",
       "      <th>4941</th>\n",
       "      <td>306</td>\n",
       "      <td>2020-08-01</td>\n",
       "      <td>Western</td>\n",
       "      <td>1,116.00</td>\n",
       "      <td>1,262.10</td>\n",
       "      <td>42.37</td>\n",
       "      <td>36.63</td>\n",
       "      <td>54.67</td>\n",
       "      <td>20.28</td>\n",
       "    </tr>\n",
       "    <tr>\n",
       "      <th>4942</th>\n",
       "      <td>307</td>\n",
       "      <td>2020-08-01</td>\n",
       "      <td>Southern</td>\n",
       "      <td>494.66</td>\n",
       "      <td>415.53</td>\n",
       "      <td>61.83</td>\n",
       "      <td>26.28</td>\n",
       "      <td>93.49</td>\n",
       "      <td>77.25</td>\n",
       "    </tr>\n",
       "    <tr>\n",
       "      <th>4943</th>\n",
       "      <td>308</td>\n",
       "      <td>2020-08-01</td>\n",
       "      <td>Eastern</td>\n",
       "      <td>482.86</td>\n",
       "      <td>547.03</td>\n",
       "      <td>NaN</td>\n",
       "      <td>NaN</td>\n",
       "      <td>87.22</td>\n",
       "      <td>93.78</td>\n",
       "    </tr>\n",
       "    <tr>\n",
       "      <th>4944</th>\n",
       "      <td>309</td>\n",
       "      <td>2020-08-01</td>\n",
       "      <td>NorthEastern</td>\n",
       "      <td>34.42</td>\n",
       "      <td>32.81</td>\n",
       "      <td>NaN</td>\n",
       "      <td>NaN</td>\n",
       "      <td>29.87</td>\n",
       "      <td>29.96</td>\n",
       "    </tr>\n",
       "  </tbody>\n",
       "</table>\n",
       "<p>4945 rows × 9 columns</p>\n",
       "</div>"
      ],
      "text/plain": [
       "      index        Date        Region Thermal Generation Actual (in MU)  \\\n",
       "0         0  2017-09-01      Northern                            624.23   \n",
       "1         1  2017-09-01       Western                          1,106.89   \n",
       "2         2  2017-09-01      Southern                            576.66   \n",
       "3         3  2017-09-01       Eastern                            441.02   \n",
       "4         4  2017-09-01  NorthEastern                             29.11   \n",
       "...     ...         ...           ...                               ...   \n",
       "4940    305  2020-08-01      Northern                            669.47   \n",
       "4941    306  2020-08-01       Western                          1,116.00   \n",
       "4942    307  2020-08-01      Southern                            494.66   \n",
       "4943    308  2020-08-01       Eastern                            482.86   \n",
       "4944    309  2020-08-01  NorthEastern                             34.42   \n",
       "\n",
       "     Thermal Generation Estimated (in MU)  Nuclear Generation Actual (in MU)  \\\n",
       "0                                  484.21                              30.36   \n",
       "1                                1,024.33                              25.17   \n",
       "2                                  578.55                              62.73   \n",
       "3                                  429.39                                NaN   \n",
       "4                                   15.91                                NaN   \n",
       "...                                   ...                                ...   \n",
       "4940                               602.96                              26.88   \n",
       "4941                             1,262.10                              42.37   \n",
       "4942                               415.53                              61.83   \n",
       "4943                               547.03                                NaN   \n",
       "4944                                32.81                                NaN   \n",
       "\n",
       "      Nuclear Generation Estimated (in MU)  Hydro Generation Actual (in MU)  \\\n",
       "0                                    35.57                           273.27   \n",
       "1                                     3.81                            72.00   \n",
       "2                                    49.80                           111.57   \n",
       "3                                      NaN                            85.94   \n",
       "4                                      NaN                            24.64   \n",
       "...                                    ...                              ...   \n",
       "4940                                 23.41                           348.72   \n",
       "4941                                 36.63                            54.67   \n",
       "4942                                 26.28                            93.49   \n",
       "4943                                   NaN                            87.22   \n",
       "4944                                   NaN                            29.87   \n",
       "\n",
       "      Hydro Generation Estimated (in MU)  \n",
       "0                                 320.81  \n",
       "1                                  21.53  \n",
       "2                                  64.78  \n",
       "3                                  69.36  \n",
       "4                                  21.21  \n",
       "...                                  ...  \n",
       "4940                              351.98  \n",
       "4941                               20.28  \n",
       "4942                               77.25  \n",
       "4943                               93.78  \n",
       "4944                               29.96  \n",
       "\n",
       "[4945 rows x 9 columns]"
      ]
     },
     "execution_count": 2,
     "metadata": {},
     "output_type": "execute_result"
    }
   ],
   "source": [
    "data = pd.read_csv('file_02.csv')\n",
    "data"
   ]
  },
  {
   "cell_type": "code",
   "execution_count": 3,
   "metadata": {},
   "outputs": [
    {
     "name": "stdout",
     "output_type": "stream",
     "text": [
      "<class 'pandas.core.frame.DataFrame'>\n",
      "RangeIndex: 4945 entries, 0 to 4944\n",
      "Data columns (total 9 columns):\n",
      " #   Column                                Non-Null Count  Dtype  \n",
      "---  ------                                --------------  -----  \n",
      " 0   index                                 4945 non-null   int64  \n",
      " 1   Date                                  4945 non-null   object \n",
      " 2   Region                                4945 non-null   object \n",
      " 3   Thermal Generation Actual (in MU)     4945 non-null   object \n",
      " 4   Thermal Generation Estimated (in MU)  4945 non-null   object \n",
      " 5   Nuclear Generation Actual (in MU)     2967 non-null   float64\n",
      " 6   Nuclear Generation Estimated (in MU)  2967 non-null   float64\n",
      " 7   Hydro Generation Actual (in MU)       4945 non-null   float64\n",
      " 8   Hydro Generation Estimated (in MU)    4945 non-null   float64\n",
      "dtypes: float64(4), int64(1), object(4)\n",
      "memory usage: 347.8+ KB\n"
     ]
    }
   ],
   "source": [
    "data.info()"
   ]
  },
  {
   "cell_type": "code",
   "execution_count": 4,
   "metadata": {},
   "outputs": [
    {
     "data": {
      "text/plain": [
       "(4945, 9)"
      ]
     },
     "execution_count": 4,
     "metadata": {},
     "output_type": "execute_result"
    }
   ],
   "source": [
    "data.shape"
   ]
  },
  {
   "cell_type": "code",
   "execution_count": 5,
   "metadata": {},
   "outputs": [
    {
     "data": {
      "text/html": [
       "<div>\n",
       "<style scoped>\n",
       "    .dataframe tbody tr th:only-of-type {\n",
       "        vertical-align: middle;\n",
       "    }\n",
       "\n",
       "    .dataframe tbody tr th {\n",
       "        vertical-align: top;\n",
       "    }\n",
       "\n",
       "    .dataframe thead th {\n",
       "        text-align: right;\n",
       "    }\n",
       "</style>\n",
       "<table border=\"1\" class=\"dataframe\">\n",
       "  <thead>\n",
       "    <tr style=\"text-align: right;\">\n",
       "      <th></th>\n",
       "      <th>index</th>\n",
       "      <th>Nuclear Generation Actual (in MU)</th>\n",
       "      <th>Nuclear Generation Estimated (in MU)</th>\n",
       "      <th>Hydro Generation Actual (in MU)</th>\n",
       "      <th>Hydro Generation Estimated (in MU)</th>\n",
       "    </tr>\n",
       "  </thead>\n",
       "  <tbody>\n",
       "    <tr>\n",
       "      <th>count</th>\n",
       "      <td>4945.000000</td>\n",
       "      <td>2967.000000</td>\n",
       "      <td>2967.000000</td>\n",
       "      <td>4945.000000</td>\n",
       "      <td>4945.000000</td>\n",
       "    </tr>\n",
       "    <tr>\n",
       "      <th>mean</th>\n",
       "      <td>2181.433771</td>\n",
       "      <td>37.242208</td>\n",
       "      <td>36.987877</td>\n",
       "      <td>73.305921</td>\n",
       "      <td>76.842965</td>\n",
       "    </tr>\n",
       "    <tr>\n",
       "      <th>std</th>\n",
       "      <td>1397.754755</td>\n",
       "      <td>15.883968</td>\n",
       "      <td>11.491292</td>\n",
       "      <td>74.482145</td>\n",
       "      <td>82.043952</td>\n",
       "    </tr>\n",
       "    <tr>\n",
       "      <th>min</th>\n",
       "      <td>0.000000</td>\n",
       "      <td>0.000000</td>\n",
       "      <td>0.000000</td>\n",
       "      <td>0.000000</td>\n",
       "      <td>0.000000</td>\n",
       "    </tr>\n",
       "    <tr>\n",
       "      <th>25%</th>\n",
       "      <td>926.000000</td>\n",
       "      <td>26.140000</td>\n",
       "      <td>30.190000</td>\n",
       "      <td>26.910000</td>\n",
       "      <td>23.310000</td>\n",
       "    </tr>\n",
       "    <tr>\n",
       "      <th>50%</th>\n",
       "      <td>2162.000000</td>\n",
       "      <td>30.720000</td>\n",
       "      <td>34.840000</td>\n",
       "      <td>52.960000</td>\n",
       "      <td>50.270000</td>\n",
       "    </tr>\n",
       "    <tr>\n",
       "      <th>75%</th>\n",
       "      <td>3398.000000</td>\n",
       "      <td>46.830000</td>\n",
       "      <td>43.075000</td>\n",
       "      <td>85.940000</td>\n",
       "      <td>95.800000</td>\n",
       "    </tr>\n",
       "    <tr>\n",
       "      <th>max</th>\n",
       "      <td>4634.000000</td>\n",
       "      <td>68.740000</td>\n",
       "      <td>76.640000</td>\n",
       "      <td>348.720000</td>\n",
       "      <td>397.380000</td>\n",
       "    </tr>\n",
       "  </tbody>\n",
       "</table>\n",
       "</div>"
      ],
      "text/plain": [
       "             index  Nuclear Generation Actual (in MU)  \\\n",
       "count  4945.000000                        2967.000000   \n",
       "mean   2181.433771                          37.242208   \n",
       "std    1397.754755                          15.883968   \n",
       "min       0.000000                           0.000000   \n",
       "25%     926.000000                          26.140000   \n",
       "50%    2162.000000                          30.720000   \n",
       "75%    3398.000000                          46.830000   \n",
       "max    4634.000000                          68.740000   \n",
       "\n",
       "       Nuclear Generation Estimated (in MU)  Hydro Generation Actual (in MU)  \\\n",
       "count                           2967.000000                      4945.000000   \n",
       "mean                              36.987877                        73.305921   \n",
       "std                               11.491292                        74.482145   \n",
       "min                                0.000000                         0.000000   \n",
       "25%                               30.190000                        26.910000   \n",
       "50%                               34.840000                        52.960000   \n",
       "75%                               43.075000                        85.940000   \n",
       "max                               76.640000                       348.720000   \n",
       "\n",
       "       Hydro Generation Estimated (in MU)  \n",
       "count                         4945.000000  \n",
       "mean                            76.842965  \n",
       "std                             82.043952  \n",
       "min                              0.000000  \n",
       "25%                             23.310000  \n",
       "50%                             50.270000  \n",
       "75%                             95.800000  \n",
       "max                            397.380000  "
      ]
     },
     "execution_count": 5,
     "metadata": {},
     "output_type": "execute_result"
    }
   ],
   "source": [
    "data.describe()"
   ]
  },
  {
   "cell_type": "code",
   "execution_count": 6,
   "metadata": {},
   "outputs": [],
   "source": [
    "data = data.drop('index', axis=1)"
   ]
  },
  {
   "cell_type": "code",
   "execution_count": 7,
   "metadata": {},
   "outputs": [
    {
     "data": {
      "text/plain": [
       "Date                                    0.0\n",
       "Region                                  0.0\n",
       "Thermal Generation Actual (in MU)       0.0\n",
       "Thermal Generation Estimated (in MU)    0.0\n",
       "Nuclear Generation Actual (in MU)       0.4\n",
       "Nuclear Generation Estimated (in MU)    0.4\n",
       "Hydro Generation Actual (in MU)         0.0\n",
       "Hydro Generation Estimated (in MU)      0.0\n",
       "dtype: float64"
      ]
     },
     "execution_count": 7,
     "metadata": {},
     "output_type": "execute_result"
    }
   ],
   "source": [
    "data.isna().mean()"
   ]
  },
  {
   "cell_type": "code",
   "execution_count": 8,
   "metadata": {},
   "outputs": [],
   "source": [
    "for column in ['Nuclear Generation Actual (in MU)', 'Nuclear Generation Estimated (in MU)']:\n",
    "    data[column] = data[column].fillna(data[column].mean())"
   ]
  },
  {
   "cell_type": "code",
   "execution_count": 9,
   "metadata": {},
   "outputs": [
    {
     "name": "stdout",
     "output_type": "stream",
     "text": [
      "Total missing values: 0\n"
     ]
    }
   ],
   "source": [
    "print(\"Total missing values:\", data.isna().sum().sum())"
   ]
  },
  {
   "cell_type": "code",
   "execution_count": 10,
   "metadata": {
    "scrolled": true
   },
   "outputs": [
    {
     "data": {
      "text/html": [
       "<div>\n",
       "<style scoped>\n",
       "    .dataframe tbody tr th:only-of-type {\n",
       "        vertical-align: middle;\n",
       "    }\n",
       "\n",
       "    .dataframe tbody tr th {\n",
       "        vertical-align: top;\n",
       "    }\n",
       "\n",
       "    .dataframe thead th {\n",
       "        text-align: right;\n",
       "    }\n",
       "</style>\n",
       "<table border=\"1\" class=\"dataframe\">\n",
       "  <thead>\n",
       "    <tr style=\"text-align: right;\">\n",
       "      <th></th>\n",
       "      <th>Date</th>\n",
       "      <th>Region</th>\n",
       "      <th>Thermal Generation Actual (in MU)</th>\n",
       "      <th>Thermal Generation Estimated (in MU)</th>\n",
       "      <th>Nuclear Generation Actual (in MU)</th>\n",
       "      <th>Nuclear Generation Estimated (in MU)</th>\n",
       "      <th>Hydro Generation Actual (in MU)</th>\n",
       "      <th>Hydro Generation Estimated (in MU)</th>\n",
       "    </tr>\n",
       "  </thead>\n",
       "  <tbody>\n",
       "    <tr>\n",
       "      <th>0</th>\n",
       "      <td>2017-09-01</td>\n",
       "      <td>Northern</td>\n",
       "      <td>624.23</td>\n",
       "      <td>484.21</td>\n",
       "      <td>30.360000</td>\n",
       "      <td>35.570000</td>\n",
       "      <td>273.27</td>\n",
       "      <td>320.81</td>\n",
       "    </tr>\n",
       "    <tr>\n",
       "      <th>1</th>\n",
       "      <td>2017-09-01</td>\n",
       "      <td>Western</td>\n",
       "      <td>1,106.89</td>\n",
       "      <td>1,024.33</td>\n",
       "      <td>25.170000</td>\n",
       "      <td>3.810000</td>\n",
       "      <td>72.00</td>\n",
       "      <td>21.53</td>\n",
       "    </tr>\n",
       "    <tr>\n",
       "      <th>2</th>\n",
       "      <td>2017-09-01</td>\n",
       "      <td>Southern</td>\n",
       "      <td>576.66</td>\n",
       "      <td>578.55</td>\n",
       "      <td>62.730000</td>\n",
       "      <td>49.800000</td>\n",
       "      <td>111.57</td>\n",
       "      <td>64.78</td>\n",
       "    </tr>\n",
       "    <tr>\n",
       "      <th>3</th>\n",
       "      <td>2017-09-01</td>\n",
       "      <td>Eastern</td>\n",
       "      <td>441.02</td>\n",
       "      <td>429.39</td>\n",
       "      <td>37.242208</td>\n",
       "      <td>36.987877</td>\n",
       "      <td>85.94</td>\n",
       "      <td>69.36</td>\n",
       "    </tr>\n",
       "    <tr>\n",
       "      <th>4</th>\n",
       "      <td>2017-09-01</td>\n",
       "      <td>NorthEastern</td>\n",
       "      <td>29.11</td>\n",
       "      <td>15.91</td>\n",
       "      <td>37.242208</td>\n",
       "      <td>36.987877</td>\n",
       "      <td>24.64</td>\n",
       "      <td>21.21</td>\n",
       "    </tr>\n",
       "    <tr>\n",
       "      <th>...</th>\n",
       "      <td>...</td>\n",
       "      <td>...</td>\n",
       "      <td>...</td>\n",
       "      <td>...</td>\n",
       "      <td>...</td>\n",
       "      <td>...</td>\n",
       "      <td>...</td>\n",
       "      <td>...</td>\n",
       "    </tr>\n",
       "    <tr>\n",
       "      <th>4940</th>\n",
       "      <td>2020-08-01</td>\n",
       "      <td>Northern</td>\n",
       "      <td>669.47</td>\n",
       "      <td>602.96</td>\n",
       "      <td>26.880000</td>\n",
       "      <td>23.410000</td>\n",
       "      <td>348.72</td>\n",
       "      <td>351.98</td>\n",
       "    </tr>\n",
       "    <tr>\n",
       "      <th>4941</th>\n",
       "      <td>2020-08-01</td>\n",
       "      <td>Western</td>\n",
       "      <td>1,116.00</td>\n",
       "      <td>1,262.10</td>\n",
       "      <td>42.370000</td>\n",
       "      <td>36.630000</td>\n",
       "      <td>54.67</td>\n",
       "      <td>20.28</td>\n",
       "    </tr>\n",
       "    <tr>\n",
       "      <th>4942</th>\n",
       "      <td>2020-08-01</td>\n",
       "      <td>Southern</td>\n",
       "      <td>494.66</td>\n",
       "      <td>415.53</td>\n",
       "      <td>61.830000</td>\n",
       "      <td>26.280000</td>\n",
       "      <td>93.49</td>\n",
       "      <td>77.25</td>\n",
       "    </tr>\n",
       "    <tr>\n",
       "      <th>4943</th>\n",
       "      <td>2020-08-01</td>\n",
       "      <td>Eastern</td>\n",
       "      <td>482.86</td>\n",
       "      <td>547.03</td>\n",
       "      <td>37.242208</td>\n",
       "      <td>36.987877</td>\n",
       "      <td>87.22</td>\n",
       "      <td>93.78</td>\n",
       "    </tr>\n",
       "    <tr>\n",
       "      <th>4944</th>\n",
       "      <td>2020-08-01</td>\n",
       "      <td>NorthEastern</td>\n",
       "      <td>34.42</td>\n",
       "      <td>32.81</td>\n",
       "      <td>37.242208</td>\n",
       "      <td>36.987877</td>\n",
       "      <td>29.87</td>\n",
       "      <td>29.96</td>\n",
       "    </tr>\n",
       "  </tbody>\n",
       "</table>\n",
       "<p>4945 rows × 8 columns</p>\n",
       "</div>"
      ],
      "text/plain": [
       "            Date        Region Thermal Generation Actual (in MU)  \\\n",
       "0     2017-09-01      Northern                            624.23   \n",
       "1     2017-09-01       Western                          1,106.89   \n",
       "2     2017-09-01      Southern                            576.66   \n",
       "3     2017-09-01       Eastern                            441.02   \n",
       "4     2017-09-01  NorthEastern                             29.11   \n",
       "...          ...           ...                               ...   \n",
       "4940  2020-08-01      Northern                            669.47   \n",
       "4941  2020-08-01       Western                          1,116.00   \n",
       "4942  2020-08-01      Southern                            494.66   \n",
       "4943  2020-08-01       Eastern                            482.86   \n",
       "4944  2020-08-01  NorthEastern                             34.42   \n",
       "\n",
       "     Thermal Generation Estimated (in MU)  Nuclear Generation Actual (in MU)  \\\n",
       "0                                  484.21                          30.360000   \n",
       "1                                1,024.33                          25.170000   \n",
       "2                                  578.55                          62.730000   \n",
       "3                                  429.39                          37.242208   \n",
       "4                                   15.91                          37.242208   \n",
       "...                                   ...                                ...   \n",
       "4940                               602.96                          26.880000   \n",
       "4941                             1,262.10                          42.370000   \n",
       "4942                               415.53                          61.830000   \n",
       "4943                               547.03                          37.242208   \n",
       "4944                                32.81                          37.242208   \n",
       "\n",
       "      Nuclear Generation Estimated (in MU)  Hydro Generation Actual (in MU)  \\\n",
       "0                                35.570000                           273.27   \n",
       "1                                 3.810000                            72.00   \n",
       "2                                49.800000                           111.57   \n",
       "3                                36.987877                            85.94   \n",
       "4                                36.987877                            24.64   \n",
       "...                                    ...                              ...   \n",
       "4940                             23.410000                           348.72   \n",
       "4941                             36.630000                            54.67   \n",
       "4942                             26.280000                            93.49   \n",
       "4943                             36.987877                            87.22   \n",
       "4944                             36.987877                            29.87   \n",
       "\n",
       "      Hydro Generation Estimated (in MU)  \n",
       "0                                 320.81  \n",
       "1                                  21.53  \n",
       "2                                  64.78  \n",
       "3                                  69.36  \n",
       "4                                  21.21  \n",
       "...                                  ...  \n",
       "4940                              351.98  \n",
       "4941                               20.28  \n",
       "4942                               77.25  \n",
       "4943                               93.78  \n",
       "4944                               29.96  \n",
       "\n",
       "[4945 rows x 8 columns]"
      ]
     },
     "execution_count": 10,
     "metadata": {},
     "output_type": "execute_result"
    }
   ],
   "source": [
    "data"
   ]
  },
  {
   "cell_type": "code",
   "execution_count": 11,
   "metadata": {},
   "outputs": [],
   "source": [
    "data['Year'] = data['Date'].apply(lambda x: np.int(x[0:4]))\n",
    "data['Month'] = data['Date'].apply(lambda x: np.int(x[5:7]))\n",
    "\n",
    "data = data.drop('Date', axis=1)"
   ]
  },
  {
   "cell_type": "code",
   "execution_count": 12,
   "metadata": {},
   "outputs": [],
   "source": [
    "for column in ['Thermal Generation Actual (in MU)', 'Thermal Generation Estimated (in MU)']:\n",
    "    data[column] = data[column].apply(lambda x: np.float(x.replace(',', '')))"
   ]
  },
  {
   "cell_type": "markdown",
   "metadata": {},
   "source": [
    "Encoding Labels"
   ]
  },
  {
   "cell_type": "code",
   "execution_count": 13,
   "metadata": {},
   "outputs": [],
   "source": [
    "label_encoder = LabelEncoder()\n",
    "\n",
    "data['Region'] = label_encoder.fit_transform(data['Region'])"
   ]
  },
  {
   "cell_type": "code",
   "execution_count": 14,
   "metadata": {},
   "outputs": [
    {
     "data": {
      "text/plain": [
       "0       2\n",
       "1       4\n",
       "2       3\n",
       "3       0\n",
       "4       1\n",
       "       ..\n",
       "4940    2\n",
       "4941    4\n",
       "4942    3\n",
       "4943    0\n",
       "4944    1\n",
       "Name: Region, Length: 4945, dtype: int64"
      ]
     },
     "execution_count": 14,
     "metadata": {},
     "output_type": "execute_result"
    }
   ],
   "source": [
    "data.Region"
   ]
  },
  {
   "cell_type": "code",
   "execution_count": 15,
   "metadata": {},
   "outputs": [
    {
     "data": {
      "text/html": [
       "<div>\n",
       "<style scoped>\n",
       "    .dataframe tbody tr th:only-of-type {\n",
       "        vertical-align: middle;\n",
       "    }\n",
       "\n",
       "    .dataframe tbody tr th {\n",
       "        vertical-align: top;\n",
       "    }\n",
       "\n",
       "    .dataframe thead th {\n",
       "        text-align: right;\n",
       "    }\n",
       "</style>\n",
       "<table border=\"1\" class=\"dataframe\">\n",
       "  <thead>\n",
       "    <tr style=\"text-align: right;\">\n",
       "      <th></th>\n",
       "      <th>Region</th>\n",
       "      <th>Thermal Generation Actual (in MU)</th>\n",
       "      <th>Thermal Generation Estimated (in MU)</th>\n",
       "      <th>Nuclear Generation Actual (in MU)</th>\n",
       "      <th>Nuclear Generation Estimated (in MU)</th>\n",
       "      <th>Hydro Generation Actual (in MU)</th>\n",
       "      <th>Hydro Generation Estimated (in MU)</th>\n",
       "      <th>Year</th>\n",
       "      <th>Month</th>\n",
       "    </tr>\n",
       "  </thead>\n",
       "  <tbody>\n",
       "    <tr>\n",
       "      <th>0</th>\n",
       "      <td>2</td>\n",
       "      <td>624.23</td>\n",
       "      <td>484.21</td>\n",
       "      <td>30.36</td>\n",
       "      <td>35.57</td>\n",
       "      <td>273.27</td>\n",
       "      <td>320.81</td>\n",
       "      <td>2017</td>\n",
       "      <td>9</td>\n",
       "    </tr>\n",
       "    <tr>\n",
       "      <th>1</th>\n",
       "      <td>4</td>\n",
       "      <td>1106.89</td>\n",
       "      <td>1024.33</td>\n",
       "      <td>25.17</td>\n",
       "      <td>3.81</td>\n",
       "      <td>72.00</td>\n",
       "      <td>21.53</td>\n",
       "      <td>2017</td>\n",
       "      <td>9</td>\n",
       "    </tr>\n",
       "    <tr>\n",
       "      <th>2</th>\n",
       "      <td>3</td>\n",
       "      <td>576.66</td>\n",
       "      <td>578.55</td>\n",
       "      <td>62.73</td>\n",
       "      <td>49.80</td>\n",
       "      <td>111.57</td>\n",
       "      <td>64.78</td>\n",
       "      <td>2017</td>\n",
       "      <td>9</td>\n",
       "    </tr>\n",
       "  </tbody>\n",
       "</table>\n",
       "</div>"
      ],
      "text/plain": [
       "   Region  Thermal Generation Actual (in MU)  \\\n",
       "0       2                             624.23   \n",
       "1       4                            1106.89   \n",
       "2       3                             576.66   \n",
       "\n",
       "   Thermal Generation Estimated (in MU)  Nuclear Generation Actual (in MU)  \\\n",
       "0                                484.21                              30.36   \n",
       "1                               1024.33                              25.17   \n",
       "2                                578.55                              62.73   \n",
       "\n",
       "   Nuclear Generation Estimated (in MU)  Hydro Generation Actual (in MU)  \\\n",
       "0                                 35.57                           273.27   \n",
       "1                                  3.81                            72.00   \n",
       "2                                 49.80                           111.57   \n",
       "\n",
       "   Hydro Generation Estimated (in MU)  Year  Month  \n",
       "0                              320.81  2017      9  \n",
       "1                               21.53  2017      9  \n",
       "2                               64.78  2017      9  "
      ]
     },
     "execution_count": 15,
     "metadata": {},
     "output_type": "execute_result"
    }
   ],
   "source": [
    "data.head(3)"
   ]
  },
  {
   "cell_type": "code",
   "execution_count": 16,
   "metadata": {
    "scrolled": false
   },
   "outputs": [
    {
     "data": {
      "text/plain": [
       "Region                                    int64\n",
       "Thermal Generation Actual (in MU)       float64\n",
       "Thermal Generation Estimated (in MU)    float64\n",
       "Nuclear Generation Actual (in MU)       float64\n",
       "Nuclear Generation Estimated (in MU)    float64\n",
       "Hydro Generation Actual (in MU)         float64\n",
       "Hydro Generation Estimated (in MU)      float64\n",
       "Year                                      int64\n",
       "Month                                     int64\n",
       "dtype: object"
      ]
     },
     "execution_count": 16,
     "metadata": {},
     "output_type": "execute_result"
    }
   ],
   "source": [
    "data.dtypes"
   ]
  },
  {
   "cell_type": "code",
   "execution_count": 17,
   "metadata": {},
   "outputs": [],
   "source": [
    "y = data['Region'].copy()\n",
    "X = data.drop(['Region','Year','Month'], axis=1).copy()"
   ]
  },
  {
   "cell_type": "code",
   "execution_count": 18,
   "metadata": {},
   "outputs": [],
   "source": [
    "scaler = StandardScaler()\n",
    "\n",
    "X = scaler.fit_transform(X)"
   ]
  },
  {
   "cell_type": "code",
   "execution_count": 19,
   "metadata": {},
   "outputs": [],
   "source": [
    "X_train, X_test, y_train, y_test = train_test_split(X, y, train_size=0.7)"
   ]
  },
  {
   "cell_type": "code",
   "execution_count": 20,
   "metadata": {},
   "outputs": [],
   "source": [
    "model = DecisionTreeClassifier()"
   ]
  },
  {
   "cell_type": "code",
   "execution_count": 21,
   "metadata": {},
   "outputs": [],
   "source": [
    "result = []\n",
    "model.fit(X_train, y_train)\n",
    "result.append(model.score(X_test, y_test))"
   ]
  },
  {
   "cell_type": "code",
   "execution_count": 22,
   "metadata": {},
   "outputs": [
    {
     "data": {
      "text/plain": [
       "[0.9993261455525606]"
      ]
     },
     "execution_count": 22,
     "metadata": {},
     "output_type": "execute_result"
    }
   ],
   "source": [
    "result"
   ]
  },
  {
   "cell_type": "code",
   "execution_count": null,
   "metadata": {},
   "outputs": [],
   "source": []
  },
  {
   "cell_type": "code",
   "execution_count": 23,
   "metadata": {},
   "outputs": [],
   "source": [
    "# y = data['Region'].copy()\n",
    "# X = data.drop('Region', axis=1).copy()"
   ]
  },
  {
   "cell_type": "code",
   "execution_count": 24,
   "metadata": {},
   "outputs": [],
   "source": [
    "# scaler = StandardScaler()\n",
    "\n",
    "# X = scaler.fit_transform(X)"
   ]
  },
  {
   "cell_type": "code",
   "execution_count": 25,
   "metadata": {},
   "outputs": [],
   "source": [
    "# X_train, X_test, y_train, y_test = train_test_split(X, y, train_size=0.7)"
   ]
  },
  {
   "cell_type": "code",
   "execution_count": 26,
   "metadata": {},
   "outputs": [],
   "source": [
    "# models = [\n",
    "#     LogisticRegression(),\n",
    "#     SVC(),\n",
    "#     MLPClassifier(),\n",
    "#     DecisionTreeClassifier(),\n",
    "#     AdaBoostClassifier(),\n",
    "#     BaggingClassifier(),\n",
    "#     GradientBoostingClassifier(),\n",
    "#     RandomForestClassifier()\n",
    "# ]\n",
    "\n",
    "# model_names = [\n",
    "#     \"         Logistic Regression\",\n",
    "#     \"      Support Vector Machine\",\n",
    "#     \"              Neural Network\",\n",
    "#     \"               Decision Tree\",\n",
    "#     \"         AdaBoost Classifier\",\n",
    "#     \"          Bagging Classifier\",\n",
    "#     \"Gradient Boosting Classifier\",\n",
    "#     \"    Random Forest Classifier\"\n",
    "# ]"
   ]
  },
  {
   "cell_type": "code",
   "execution_count": 27,
   "metadata": {},
   "outputs": [],
   "source": [
    "# model = DecisionTreeClassifier()"
   ]
  },
  {
   "cell_type": "code",
   "execution_count": 28,
   "metadata": {},
   "outputs": [],
   "source": [
    "# result = []\n",
    "# model.fit(X_train, y_train)\n",
    "# result.append(model.score(X_test, y_test))"
   ]
  },
  {
   "cell_type": "code",
   "execution_count": 29,
   "metadata": {},
   "outputs": [],
   "source": [
    "# result"
   ]
  },
  {
   "cell_type": "code",
   "execution_count": 30,
   "metadata": {},
   "outputs": [],
   "source": [
    "# results = []\n",
    "\n",
    "# for i in range(len(models)):\n",
    "#     models[i].fit(X_train, y_train)\n",
    "#     results.append(models[i].score(X_test, y_test))"
   ]
  },
  {
   "cell_type": "code",
   "execution_count": 31,
   "metadata": {
    "scrolled": true
   },
   "outputs": [],
   "source": [
    "# for i in range(len(models)):\n",
    "#     print(model_names[i] + \": {:.5f}\".format(results[i]))"
   ]
  },
  {
   "cell_type": "code",
   "execution_count": 32,
   "metadata": {},
   "outputs": [],
   "source": [
    "#new_input = [[543.5, 678.5, 44.5, 40.5, 870, 800, 2017, 8]]"
   ]
  },
  {
   "cell_type": "code",
   "execution_count": 33,
   "metadata": {
    "scrolled": false
   },
   "outputs": [],
   "source": [
    "#for i in range(len(models)):\n",
    "#    new_output = models[i].predict(new_input)\n",
    "#    print(new_output)"
   ]
  },
  {
   "cell_type": "code",
   "execution_count": 34,
   "metadata": {},
   "outputs": [],
   "source": [
    "new_input = [[624.23, 484.21, 30.36, 35.57, 273.27, 320.81]]"
   ]
  },
  {
   "cell_type": "code",
   "execution_count": 35,
   "metadata": {},
   "outputs": [
    {
     "name": "stdout",
     "output_type": "stream",
     "text": [
      "[4]\n"
     ]
    }
   ],
   "source": [
    "new_output = model.predict(new_input)\n",
    "print(new_output)"
   ]
  },
  {
   "cell_type": "code",
   "execution_count": 36,
   "metadata": {},
   "outputs": [],
   "source": [
    "import pickle"
   ]
  },
  {
   "cell_type": "code",
   "execution_count": 37,
   "metadata": {},
   "outputs": [],
   "source": [
    "pkl_file= open('decision_tree_model_final.pkl',\"wb\")"
   ]
  },
  {
   "cell_type": "code",
   "execution_count": 38,
   "metadata": {},
   "outputs": [],
   "source": [
    "pickle.dump(model,pkl_file)"
   ]
  },
  {
   "cell_type": "code",
   "execution_count": 39,
   "metadata": {},
   "outputs": [],
   "source": [
    "pkl_file.close()"
   ]
  },
  {
   "cell_type": "markdown",
   "metadata": {},
   "source": [
    "Northern - 2\n",
    "\n",
    "Western - 4\n",
    "\n",
    "Southern - 3\n",
    "\n",
    "Eastern - 0\n",
    "\n",
    "Northeastern - 1"
   ]
  }
 ],
 "metadata": {
  "kernelspec": {
   "display_name": "Python 3",
   "language": "python",
   "name": "python3"
  },
  "language_info": {
   "codemirror_mode": {
    "name": "ipython",
    "version": 3
   },
   "file_extension": ".py",
   "mimetype": "text/x-python",
   "name": "python",
   "nbconvert_exporter": "python",
   "pygments_lexer": "ipython3",
   "version": "3.8.5"
  }
 },
 "nbformat": 4,
 "nbformat_minor": 4
}
